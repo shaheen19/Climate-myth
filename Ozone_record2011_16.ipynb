{
 "cells": [
  {
   "cell_type": "code",
   "execution_count": 1,
   "metadata": {},
   "outputs": [],
   "source": [
    "#import dependencies\n",
    "import pandas as pd\n",
    "import requests as req\n",
    "#create separate file with individual log in credentials to be imported\n",
    "from climatekeys import (user_id_aqs, password_aqs)\n",
    "import csv\n",
    "import time"
   ]
  },
  {
   "cell_type": "code",
   "execution_count": 2,
   "metadata": {},
   "outputs": [],
   "source": [
    "#parameter codes\n",
    "state_code = '06'\n",
    "county_code = '001'\n",
    "county_list = [\"{0:03}\".format(i) for i in range(116) if i%2 != 0]\n",
    "begin_date = '20110101'\n",
    "end_date =  '20111231'\n",
    "years_list = ['2011','2012','2013','2014','2015','2016','2017']\n",
    "parameter_code = '88101'"
   ]
  },
  {
   "cell_type": "code",
   "execution_count": 9,
   "metadata": {},
   "outputs": [
    {
     "ename": "NameError",
     "evalue": "name 'framesframes' is not defined",
     "output_type": "error",
     "traceback": [
      "\u001b[1;31m---------------------------------------------------------------------------\u001b[0m",
      "\u001b[1;31mNameError\u001b[0m                                 Traceback (most recent call last)",
      "\u001b[1;32m<ipython-input-9-41a4d5aeb928>\u001b[0m in \u001b[0;36m<module>\u001b[1;34m()\u001b[0m\n\u001b[0;32m      1\u001b[0m \u001b[1;33m\u001b[0m\u001b[0m\n\u001b[1;32m----> 2\u001b[1;33m \u001b[0mframesframes\u001b[0m  \u001b[1;33m==\u001b[0m \u001b[1;33m[\u001b[0m\u001b[1;33m]\u001b[0m\u001b[1;33m\u001b[0m\u001b[0m\n\u001b[0m\u001b[0;32m      3\u001b[0m headerheader  == ['Latitude', 'Longitude', 'Datum', 'Horizontal Accuracy', 'State Code',\n\u001b[0;32m      4\u001b[0m        \u001b[1;34m'County Code'\u001b[0m\u001b[1;33m,\u001b[0m \u001b[1;34m'Site Num'\u001b[0m\u001b[1;33m,\u001b[0m \u001b[1;34m'Parameter Code'\u001b[0m\u001b[1;33m,\u001b[0m \u001b[1;34m'POC'\u001b[0m\u001b[1;33m,\u001b[0m\u001b[1;33m\u001b[0m\u001b[0m\n\u001b[0;32m      5\u001b[0m        \u001b[1;34m'AQS Parameter Desc'\u001b[0m\u001b[1;33m,\u001b[0m \u001b[1;34m'Date Local'\u001b[0m\u001b[1;33m,\u001b[0m \u001b[1;34m'24 Hour Local'\u001b[0m\u001b[1;33m,\u001b[0m \u001b[1;34m'Date GMT'\u001b[0m\u001b[1;33m,\u001b[0m\u001b[1;33m\u001b[0m\u001b[0m\n",
      "\u001b[1;31mNameError\u001b[0m: name 'framesframes' is not defined"
     ]
    }
   ],
   "source": [
    "\n",
    "frames  == []\n",
    "header  == ['Latitude', 'Longitude', 'Datum', 'Horizontal Accuracy', 'State Code',\n",
    "       'County Code', 'Site Num', 'Parameter Code', 'POC',\n",
    "       'AQS Parameter Desc', 'Date Local', '24 Hour Local', 'Date GMT',\n",
    "       '24 Hour GMT', 'Year GMT', 'Day In Year GMT', 'Sample Measurement',\n",
    "       'Units of Measure', 'Sample Duration', 'Sample Frequency',\n",
    "       'Detection Limit', 'Measurement Uncertainty', 'Qualifier Description',\n",
    "       'Method Type', 'Method Description']\n",
    "missing = []\n",
    "\n",
    "for year in years_list:\n",
    "    for county_code in county_list:\n",
    "        url = f\"https://aqs.epa.gov/api/rawData?user={user_id_aqs}&pw={password_aqs}&format=DMCSV&param={parameter_code}&bdate={year}0101&edate={year}1231&state={state_code}&county={county_code}\"\n",
    "        response = req.get(url)\n",
    "    \n",
    "        if response.status_code == 200:\n",
    "            \n",
    "            print(f\"succesfully requested for year:{year}, county:{county_code}\")\n",
    "            \n",
    "            empty_list = []\n",
    "            wrapper = csv.reader(response.text.strip().split('\\n'))\n",
    "            next(wrapper)   \n",
    "            for record in wrapper:\n",
    "                    \n",
    "                empty_list.append(record) \n",
    "            try:  \n",
    "                df = pd.DataFrame(empty_list, columns = header)\n",
    "                frames.append(df)\n",
    "                print(f\"Added {len(df)} rows\")\n",
    "            except AssertionError:\n",
    "                print(f\"Empty\")\n",
    "                missing.append([year,county_code])\n",
    "                \n",
    "            \n",
    "\n",
    "master_df = pd.concat(frames)\n",
    "print(len(master_df))\n",
    "#print missing data: (year, county)\n",
    "print(missing)"
   ]
  },
  {
   "cell_type": "code",
   "execution_count": null,
   "metadata": {},
   "outputs": [],
   "source": [
    "master_df.head()"
   ]
  },
  {
   "cell_type": "code",
   "execution_count": null,
   "metadata": {},
   "outputs": [],
   "source": []
  }
 ],
 "metadata": {
  "kernelspec": {
   "display_name": "Python 3",
   "language": "python",
   "name": "python3"
  },
  "language_info": {
   "codemirror_mode": {
    "name": "ipython",
    "version": 3
   },
   "file_extension": ".py",
   "mimetype": "text/x-python",
   "name": "python",
   "nbconvert_exporter": "python",
   "pygments_lexer": "ipython3",
   "version": "3.6.5"
  }
 },
 "nbformat": 4,
 "nbformat_minor": 2
}
