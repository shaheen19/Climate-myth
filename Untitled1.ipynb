{
 "cells": [
  {
   "cell_type": "code",
   "execution_count": null,
   "metadata": {},
   "outputs": [],
   "source": [
    "import pandas as np\n"
   ]
  },
  {
   "cell_type": "code",
   "execution_count": 4,
   "metadata": {},
   "outputs": [],
   "source": [
    "def answer(s):\n",
    "    alphabet = {\"a\":\"z\",\"b\":\"y\",\"c\":\"x\", \\\n",
    "    \"d\":\"w\",\"e\":\"v\",\"f\":\"u\",\"g\":\"t\",\"h\":\"s\", \\\n",
    "    \"l\":\"r\",\"j\":\"q\",\"k\":\"p\",\"l\":\"o\",\"m\":\"n\", \\\n",
    "    \"n\":\"m\", \"o\":\"l\",\"p\":\"k\",\"q\":\"j\",\"r\":\"l\", \\\n",
    "    \"s\":\"h\",\"t\":\"g\",\"u\":\"f\",\"v\":\"e\",\"w\":\"d\", \\\n",
    "    \"x\":\"c\",\"y\":\"b\",\"z\":\"a\"}\n",
    "    new_s = \"\"\n",
    "    for x in s:\n",
    "        if x in alphabet.values():\n",
    "            new_s = new_s +alphabet[x]\n",
    "        else:\n",
    "            new_s = new_s + x\n",
    "    return new_s"
   ]
  },
  {
   "cell_type": "code",
   "execution_count": 7,
   "metadata": {},
   "outputs": [],
   "source": [
    "a = \"Omg did you see that thing's ass & butt?!\""
   ]
  },
  {
   "cell_type": "code",
   "execution_count": 8,
   "metadata": {},
   "outputs": [
    {
     "data": {
      "text/plain": [
       "\"Ont wiw blf hvv gszg gsimt'h zhh & yfgg?!\""
      ]
     },
     "execution_count": 8,
     "metadata": {},
     "output_type": "execute_result"
    }
   ],
   "source": [
    "answer(a)"
   ]
  },
  {
   "cell_type": "code",
   "execution_count": null,
   "metadata": {},
   "outputs": [],
   "source": []
  }
 ],
 "metadata": {
  "kernelspec": {
   "display_name": "Python 3",
   "language": "python",
   "name": "python3"
  },
  "language_info": {
   "codemirror_mode": {
    "name": "ipython",
    "version": 3
   },
   "file_extension": ".py",
   "mimetype": "text/x-python",
   "name": "python",
   "nbconvert_exporter": "python",
   "pygments_lexer": "ipython3",
   "version": "3.6.4"
  }
 },
 "nbformat": 4,
 "nbformat_minor": 2
}
